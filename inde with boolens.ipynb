{
 "cells": [
  {
   "cell_type": "code",
   "execution_count": 1,
   "id": "c42d7727",
   "metadata": {},
   "outputs": [],
   "source": [
    "import numpy as np"
   ]
  },
  {
   "cell_type": "code",
   "execution_count": 2,
   "id": "e9a3144e",
   "metadata": {},
   "outputs": [],
   "source": [
    "arr= np.random.randint(low=1,high=100,size=20)"
   ]
  },
  {
   "cell_type": "code",
   "execution_count": 3,
   "id": "331f2a49",
   "metadata": {},
   "outputs": [
    {
     "data": {
      "text/plain": [
       "array([89, 54, 13, 54, 53, 59, 52, 31,  9, 37,  8, 95,  3, 93, 36, 87, 37,\n",
       "       49, 17, 74])"
      ]
     },
     "execution_count": 3,
     "metadata": {},
     "output_type": "execute_result"
    }
   ],
   "source": [
    "arr"
   ]
  },
  {
   "cell_type": "code",
   "execution_count": 4,
   "id": "b14c62ea",
   "metadata": {},
   "outputs": [
    {
     "data": {
      "text/plain": [
       "array([ True,  True, False,  True,  True,  True,  True, False, False,\n",
       "       False, False,  True, False,  True, False,  True, False, False,\n",
       "       False,  True])"
      ]
     },
     "execution_count": 4,
     "metadata": {},
     "output_type": "execute_result"
    }
   ],
   "source": [
    "arr>50"
   ]
  },
  {
   "cell_type": "code",
   "execution_count": 5,
   "id": "8692e4dd",
   "metadata": {},
   "outputs": [
    {
     "data": {
      "text/plain": [
       "array([89, 54, 54, 53, 59, 52, 95, 93, 87, 74])"
      ]
     },
     "execution_count": 5,
     "metadata": {},
     "output_type": "execute_result"
    }
   ],
   "source": [
    "arr[arr>50]"
   ]
  },
  {
   "cell_type": "code",
   "execution_count": 6,
   "id": "7075bd74",
   "metadata": {},
   "outputs": [
    {
     "data": {
      "text/plain": [
       "array([89, 53, 59, 95, 93, 87])"
      ]
     },
     "execution_count": 6,
     "metadata": {},
     "output_type": "execute_result"
    }
   ],
   "source": [
    "arr[(arr>50)&(arr%2!=0)]"
   ]
  },
  {
   "cell_type": "code",
   "execution_count": 7,
   "id": "1deb21dc",
   "metadata": {},
   "outputs": [],
   "source": [
    "arr[(arr>50)&(arr%2!=0)]=0"
   ]
  },
  {
   "cell_type": "code",
   "execution_count": 8,
   "id": "da15d8da",
   "metadata": {},
   "outputs": [
    {
     "data": {
      "text/plain": [
       "array([ 0, 54, 13, 54,  0,  0, 52, 31,  9, 37,  8,  0,  3,  0, 36,  0, 37,\n",
       "       49, 17, 74])"
      ]
     },
     "execution_count": 8,
     "metadata": {},
     "output_type": "execute_result"
    }
   ],
   "source": [
    "arr"
   ]
  }
 ],
 "metadata": {
  "kernelspec": {
   "display_name": "base",
   "language": "python",
   "name": "python3"
  },
  "language_info": {
   "codemirror_mode": {
    "name": "ipython",
    "version": 3
   },
   "file_extension": ".py",
   "mimetype": "text/x-python",
   "name": "python",
   "nbconvert_exporter": "python",
   "pygments_lexer": "ipython3",
   "version": "3.12.7"
  }
 },
 "nbformat": 4,
 "nbformat_minor": 5
}
